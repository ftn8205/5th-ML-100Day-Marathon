{
 "cells": [
  {
   "cell_type": "code",
   "execution_count": 5,
   "metadata": {},
   "outputs": [],
   "source": [
    "import os\n",
    "import numpy as np # linear algebra\n",
    "import pandas as pd # data processing, CSV file I/O (e.g. pd.read_csv)\n",
    "from keras.layers import Flatten, Dense\n",
    "from keras.models import Model\n",
    "from keras.applications.inception_resnet_v2 import InceptionResNetV2\n",
    "from keras.optimizers import Adam\n",
    "from keras.preprocessing.image import ImageDataGenerator"
   ]
  },
  {
   "cell_type": "code",
   "execution_count": 6,
   "metadata": {},
   "outputs": [],
   "source": [
    "# batch_size = 64 # batch 的大小，如果出現 OOM error，請降低這個值\n",
    "# num_classes = 5 # 類別的數量，共有 5 個類別\n",
    "# epochs = 10 # 訓練的 epochs 數量\n",
    "\n",
    "# # 讀取資料並檢視\n",
    "# (x_train, y_train), (x_test, y_test) = cifar10.load_data()\n",
    "# print('x_train shape:', x_train.shape)\n",
    "# print(x_train.shape[0], 'train samples')\n",
    "# print(x_test.shape[0], 'test samples')\n",
    "\n",
    "# # 對 label 進行 one-hot encoding (y_trian 原本是純數字)\n",
    "# y_train = keras.utils.to_categorical(y_train, num_classes)\n",
    "# y_test = keras.utils.to_categorical(y_test, num_classes)\n",
    "\n",
    "\n",
    "DATASET_PATH  = './image_data/train'\n",
    "TEST_PATH = './image_data/test'\n",
    "OUTPUT_PATH = './working'\n",
    "NUM_CLASSES = 5\n",
    "NUM_EPOCHS = 10\n",
    "SEED = 77\n",
    "# saved model\n",
    "WEIGHTS_FINAL = 'model-InceptionResNetV2.h5'\n",
    "categories=os.listdir(DATASET_PATH)\n",
    "\n"
   ]
  },
  {
   "cell_type": "code",
   "execution_count": 7,
   "metadata": {},
   "outputs": [
    {
     "name": "stdout",
     "output_type": "stream",
     "text": [
      "Found 2260 images belonging to 5 classes.\n",
      "Found 563 images belonging to 5 classes.\n",
      "Class #0 = daisy\n",
      "Class #1 = dandelion\n",
      "Class #2 = rose\n",
      "Class #3 = sunflower\n",
      "Class #4 = tulip\n"
     ]
    }
   ],
   "source": [
    "train_datagen = ImageDataGenerator(rotation_range=30, width_shift_range=0.125, height_shift_range=0.125, zoom_range=0.125, horizontal_flip=True,\n",
    "                                   validation_split=0.2, rescale=1. / 255)\n",
    "train_batches = train_datagen.flow_from_directory(DATASET_PATH, subset = 'training', seed = SEED)\n",
    "valid_batches = train_datagen.flow_from_directory(DATASET_PATH, subset = 'validation', seed = SEED)\n",
    "for cls, idx in train_batches.class_indices.items():\n",
    "    print('Class #{} = {}'.format(idx, cls))"
   ]
  },
  {
   "cell_type": "code",
   "execution_count": 8,
   "metadata": {},
   "outputs": [
    {
     "name": "stdout",
     "output_type": "stream",
     "text": [
      "Epoch 1/10\n",
      "71/71 [==============================] - 1418s 20s/step - loss: 2.6434 - accuracy: 0.5406 - val_loss: 799468.1875 - val_accuracy: 0.1705\n",
      "Epoch 2/10\n",
      "71/71 [==============================] - 1379s 19s/step - loss: 2.7457 - accuracy: 0.6801 - val_loss: 2486951.5000 - val_accuracy: 0.1936\n",
      "Epoch 3/10\n",
      "71/71 [==============================] - 1368s 19s/step - loss: 2.5009 - accuracy: 0.6900 - val_loss: 2433.8774 - val_accuracy: 0.2558\n",
      "Epoch 4/10\n",
      "71/71 [==============================] - 1417s 20s/step - loss: 2.0164 - accuracy: 0.7067 - val_loss: 151.5958 - val_accuracy: 0.2682\n",
      "Epoch 5/10\n",
      "71/71 [==============================] - 1728s 24s/step - loss: 1.2451 - accuracy: 0.7660 - val_loss: 10624.8809 - val_accuracy: 0.2345\n",
      "Epoch 6/10\n",
      "71/71 [==============================] - 1934s 27s/step - loss: 0.8818 - accuracy: 0.7882 - val_loss: 929.5561 - val_accuracy: 0.3037\n",
      "Epoch 7/10\n",
      "71/71 [==============================] - 1412s 20s/step - loss: 0.8431 - accuracy: 0.7969 - val_loss: 3.9767 - val_accuracy: 0.6856\n",
      "Epoch 8/10\n",
      "71/71 [==============================] - 1381s 19s/step - loss: 0.5058 - accuracy: 0.8244 - val_loss: 0.4981 - val_accuracy: 0.8206\n",
      "Epoch 9/10\n",
      "71/71 [==============================] - 1381s 19s/step - loss: 0.4613 - accuracy: 0.8468 - val_loss: 0.5380 - val_accuracy: 0.7904\n",
      "Epoch 10/10\n",
      "71/71 [==============================] - 1381s 19s/step - loss: 0.4316 - accuracy: 0.8469 - val_loss: 0.4944 - val_accuracy: 0.8171\n"
     ]
    }
   ],
   "source": [
    "# Build Model\n",
    "net = InceptionResNetV2(include_top=False, input_shape=(256, 256, 3))\n",
    "x = net.output\n",
    "x = Flatten()(x)\n",
    "# Add Dense layer, each probability by softmax\n",
    "output_layer = Dense(NUM_CLASSES, activation='softmax', name='softmax')(x)\n",
    "model = Model(inputs=net.input, outputs=output_layer)\n",
    "model.compile(optimizer=Adam(), loss='categorical_crossentropy', metrics=['accuracy'])\n",
    "# Train\n",
    "model.fit_generator(train_batches, validation_data = valid_batches, epochs = NUM_EPOCHS)\n",
    "\n",
    "# Store Model\n",
    "model.save(WEIGHTS_FINAL)"
   ]
  },
  {
   "cell_type": "code",
   "execution_count": 9,
   "metadata": {},
   "outputs": [
    {
     "name": "stdout",
     "output_type": "stream",
     "text": [
      "./working/submission.csv\n"
     ]
    }
   ],
   "source": [
    "from keras.preprocessing import image\n",
    "out = np.array(['id', 'flower_class'])\n",
    "testfiles=os.listdir(TEST_PATH)\n",
    "print(OUTPUT_PATH+'/submission.csv')\n",
    "for testfile in testfiles:\n",
    "    filename = testfile.split('.')[0]\n",
    "    img = image.load_img(TEST_PATH+'/'+testfile,target_size=(256, 256))\n",
    "    if img is None:\n",
    "        continue\n",
    "    x = image.img_to_array(img)\n",
    "    x = np.expand_dims(x, axis = 0)\n",
    "    x = x /255.\n",
    "    pred = model.predict(x)[0]\n",
    "    tof=np.argmax(pred)\n",
    "    out = np.vstack((out,[filename, tof]))\n",
    "\n",
    "pd.DataFrame(out).to_csv(OUTPUT_PATH+'/submission.csv',index=False,header=False)"
   ]
  },
  {
   "cell_type": "code",
   "execution_count": null,
   "metadata": {},
   "outputs": [],
   "source": []
  },
  {
   "cell_type": "code",
   "execution_count": null,
   "metadata": {},
   "outputs": [],
   "source": []
  },
  {
   "cell_type": "code",
   "execution_count": null,
   "metadata": {},
   "outputs": [],
   "source": []
  },
  {
   "cell_type": "code",
   "execution_count": null,
   "metadata": {},
   "outputs": [],
   "source": []
  }
 ],
 "metadata": {
  "kernelspec": {
   "display_name": "Python 3",
   "language": "python",
   "name": "python3"
  },
  "language_info": {
   "codemirror_mode": {
    "name": "ipython",
    "version": 3
   },
   "file_extension": ".py",
   "mimetype": "text/x-python",
   "name": "python",
   "nbconvert_exporter": "python",
   "pygments_lexer": "ipython3",
   "version": "3.8.3"
  }
 },
 "nbformat": 4,
 "nbformat_minor": 4
}
