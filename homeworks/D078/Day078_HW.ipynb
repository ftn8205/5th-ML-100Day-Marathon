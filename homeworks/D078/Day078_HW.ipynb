{
 "cells": [
  {
   "cell_type": "markdown",
   "metadata": {},
   "source": [
    "## Work\n",
    "1. 請嘗試將 preproc_x 替換成以每筆資料的 min/max 進行標準化至 -1 ~ 1 間，再進行訓練\n",
    "2. 請嘗試將 mlp 疊更深 (e.g 5~10 層)，進行訓練後觀察 learning curve 的走勢\n",
    "3. (optional) 請改用 GPU 進行訓練 (如果你有 GPU 的話)，比較使用 CPU 與 GPU 的訓練速度"
   ]
  },
  {
   "cell_type": "code",
   "execution_count": 2,
   "metadata": {},
   "outputs": [
    {
     "data": {
      "text/plain": [
       "'\\nYour code here (optional)\\n確認硬體資源\\n'"
      ]
     },
     "execution_count": 2,
     "metadata": {},
     "output_type": "execute_result"
    }
   ],
   "source": [
    "## \n",
    "\"\"\"\n",
    "Your code here (optional)\n",
    "確認硬體資源\n",
    "\"\"\"\n"
   ]
  },
  {
   "cell_type": "code",
   "execution_count": 3,
   "metadata": {},
   "outputs": [],
   "source": [
    "import os\n",
    "import keras\n",
    "\n",
    "# 請嘗試設定 GPU：os.environ\n"
   ]
  },
  {
   "cell_type": "code",
   "execution_count": 4,
   "metadata": {},
   "outputs": [],
   "source": [
    "train, test = keras.datasets.cifar10.load_data()"
   ]
  },
  {
   "cell_type": "code",
   "execution_count": 6,
   "metadata": {},
   "outputs": [],
   "source": [
    "## 資料前處理\n",
    "\"\"\"\n",
    "Your code here\n",
    "\"\"\"\n",
    "def preproc_x(x, flatten=True):\n",
    "    x = x / 255\n",
    "    if flatten:\n",
    "        x = x.reshape((len(x), -1))\n",
    "    return x\n",
    "\n",
    "def preproc_y(y, num_classes=10):\n",
    "    if y.shape[-1] == 1:\n",
    "        y = keras.utils.to_categorical(y, num_classes)\n",
    "    return y    "
   ]
  },
  {
   "cell_type": "code",
   "execution_count": 8,
   "metadata": {},
   "outputs": [
    {
     "name": "stdout",
     "output_type": "stream",
     "text": [
      "[[0.23137255 0.24313725 0.24705882 ... 0.48235294 0.36078431 0.28235294]\n",
      " [0.60392157 0.69411765 0.73333333 ... 0.56078431 0.52156863 0.56470588]\n",
      " [1.         1.         1.         ... 0.31372549 0.3372549  0.32941176]\n",
      " ...\n",
      " [0.1372549  0.69803922 0.92156863 ... 0.04705882 0.12156863 0.19607843]\n",
      " [0.74117647 0.82745098 0.94117647 ... 0.76470588 0.74509804 0.67058824]\n",
      " [0.89803922 0.89803922 0.9372549  ... 0.63921569 0.63921569 0.63137255]]\n"
     ]
    }
   ],
   "source": [
    "x_train, y_train = train\n",
    "x_test, y_test = test\n",
    "\n",
    "# Preproc the inputs\n",
    "x_train = preproc_x(x_train)\n",
    "x_test = preproc_x(x_test)\n",
    "\n",
    "# Preprc the outputs\n",
    "y_train = preproc_y(y_train)\n",
    "y_test = preproc_y(y_test)"
   ]
  },
  {
   "cell_type": "code",
   "execution_count": 9,
   "metadata": {},
   "outputs": [
    {
     "name": "stdout",
     "output_type": "stream",
     "text": [
      "Model: \"functional_1\"\n",
      "_________________________________________________________________\n",
      "Layer (type)                 Output Shape              Param #   \n",
      "=================================================================\n",
      "input_1 (InputLayer)         [(None, 3072)]            0         \n",
      "_________________________________________________________________\n",
      "hidden_layer1 (Dense)        (None, 512)               1573376   \n",
      "_________________________________________________________________\n",
      "hidden_layer2 (Dense)        (None, 256)               131328    \n",
      "_________________________________________________________________\n",
      "hidden_layer3 (Dense)        (None, 128)               32896     \n",
      "_________________________________________________________________\n",
      "hidden_layer4 (Dense)        (None, 64)                8256      \n",
      "_________________________________________________________________\n",
      "hidden_layer5 (Dense)        (None, 32)                2080      \n",
      "_________________________________________________________________\n",
      "output (Dense)               (None, 10)                330       \n",
      "=================================================================\n",
      "Total params: 1,748,266\n",
      "Trainable params: 1,748,266\n",
      "Non-trainable params: 0\n",
      "_________________________________________________________________\n"
     ]
    }
   ],
   "source": [
    "\"\"\"Code Here\n",
    "建立你的神經網路\n",
    "\"\"\"\n",
    "def build_mlp(input_shape, output_units=10, num_neurons=[512, 256, 128, 64, 32]):\n",
    "    input_layer = keras.layers.Input(input_shape)\n",
    "    \n",
    "    for i, n_units in enumerate(num_neurons):\n",
    "        if i == 0:\n",
    "            x = keras.layers.Dense(units=n_units, activation=\"relu\", name=\"hidden_layer\"+str(i+1))(input_layer)\n",
    "        else:\n",
    "            x = keras.layers.Dense(units=n_units, activation=\"relu\", name=\"hidden_layer\"+str(i+1))(x)\n",
    "    \n",
    "    out = keras.layers.Dense(units=output_units, activation=\"softmax\", name=\"output\")(x)\n",
    "    \n",
    "    model = keras.models.Model(inputs=[input_layer], outputs=[out])\n",
    "    return model\n",
    "\n",
    "model = build_mlp(input_shape=x_train.shape[1:])\n",
    "model.summary()"
   ]
  },
  {
   "cell_type": "code",
   "execution_count": 10,
   "metadata": {},
   "outputs": [],
   "source": [
    "## 超參數設定\n",
    "LEARNING_RATE = 0.001\n",
    "EPOCHS = 100\n",
    "BATCH_SIZE = 256"
   ]
  },
  {
   "cell_type": "code",
   "execution_count": 11,
   "metadata": {},
   "outputs": [],
   "source": [
    "optimizer = keras.optimizers.Adam(lr=LEARNING_RATE)\n",
    "model.compile(loss=\"categorical_crossentropy\", metrics=[\"accuracy\"], optimizer=optimizer)"
   ]
  },
  {
   "cell_type": "code",
   "execution_count": 12,
   "metadata": {},
   "outputs": [
    {
     "name": "stdout",
     "output_type": "stream",
     "text": [
      "Epoch 1/100\n",
      "196/196 [==============================] - 4s 23ms/step - loss: 2.0029 - accuracy: 0.2629 - val_loss: 1.8265 - val_accuracy: 0.3499\n",
      "Epoch 2/100\n",
      "196/196 [==============================] - 4s 22ms/step - loss: 1.7715 - accuracy: 0.3642 - val_loss: 1.6930 - val_accuracy: 0.3905\n",
      "Epoch 3/100\n",
      "196/196 [==============================] - 4s 21ms/step - loss: 1.6693 - accuracy: 0.3978 - val_loss: 1.6141 - val_accuracy: 0.4258\n",
      "Epoch 4/100\n",
      "196/196 [==============================] - 4s 20ms/step - loss: 1.6008 - accuracy: 0.4247 - val_loss: 1.5587 - val_accuracy: 0.4382\n",
      "Epoch 5/100\n",
      "196/196 [==============================] - 4s 20ms/step - loss: 1.5521 - accuracy: 0.4446 - val_loss: 1.5450 - val_accuracy: 0.4493\n",
      "Epoch 6/100\n",
      "196/196 [==============================] - 4s 21ms/step - loss: 1.5067 - accuracy: 0.4594 - val_loss: 1.4974 - val_accuracy: 0.4665\n",
      "Epoch 7/100\n",
      "196/196 [==============================] - 4s 20ms/step - loss: 1.4620 - accuracy: 0.4778 - val_loss: 1.4811 - val_accuracy: 0.4784\n",
      "Epoch 8/100\n",
      "196/196 [==============================] - 4s 20ms/step - loss: 1.4345 - accuracy: 0.4871 - val_loss: 1.4923 - val_accuracy: 0.4688\n",
      "Epoch 9/100\n",
      "196/196 [==============================] - 4s 20ms/step - loss: 1.4106 - accuracy: 0.4940 - val_loss: 1.4821 - val_accuracy: 0.4758\n",
      "Epoch 10/100\n",
      "196/196 [==============================] - 4s 21ms/step - loss: 1.3908 - accuracy: 0.5019 - val_loss: 1.5094 - val_accuracy: 0.4650\n",
      "Epoch 11/100\n",
      "196/196 [==============================] - 5s 23ms/step - loss: 1.3658 - accuracy: 0.5121 - val_loss: 1.4303 - val_accuracy: 0.4950\n",
      "Epoch 12/100\n",
      "196/196 [==============================] - 4s 22ms/step - loss: 1.3414 - accuracy: 0.5210 - val_loss: 1.4108 - val_accuracy: 0.4935\n",
      "Epoch 13/100\n",
      "196/196 [==============================] - 4s 20ms/step - loss: 1.3281 - accuracy: 0.5246 - val_loss: 1.4463 - val_accuracy: 0.4889\n",
      "Epoch 14/100\n",
      "196/196 [==============================] - 4s 19ms/step - loss: 1.2970 - accuracy: 0.5370 - val_loss: 1.4100 - val_accuracy: 0.4992\n",
      "Epoch 15/100\n",
      "196/196 [==============================] - 4s 19ms/step - loss: 1.2748 - accuracy: 0.5453 - val_loss: 1.4318 - val_accuracy: 0.4971\n",
      "Epoch 16/100\n",
      "196/196 [==============================] - 4s 19ms/step - loss: 1.2492 - accuracy: 0.5537 - val_loss: 1.3919 - val_accuracy: 0.5075\n",
      "Epoch 17/100\n",
      "196/196 [==============================] - 4s 18ms/step - loss: 1.2382 - accuracy: 0.5565 - val_loss: 1.3988 - val_accuracy: 0.5014\n",
      "Epoch 18/100\n",
      "196/196 [==============================] - 4s 19ms/step - loss: 1.2086 - accuracy: 0.5707 - val_loss: 1.3695 - val_accuracy: 0.5132\n",
      "Epoch 19/100\n",
      "196/196 [==============================] - 4s 19ms/step - loss: 1.1977 - accuracy: 0.5735 - val_loss: 1.4009 - val_accuracy: 0.5098\n",
      "Epoch 20/100\n",
      "196/196 [==============================] - 4s 18ms/step - loss: 1.1683 - accuracy: 0.5830 - val_loss: 1.4316 - val_accuracy: 0.5008\n",
      "Epoch 21/100\n",
      "196/196 [==============================] - 4s 19ms/step - loss: 1.1495 - accuracy: 0.5891 - val_loss: 1.4051 - val_accuracy: 0.5130\n",
      "Epoch 22/100\n",
      "196/196 [==============================] - 4s 20ms/step - loss: 1.1433 - accuracy: 0.5910 - val_loss: 1.3632 - val_accuracy: 0.5232\n",
      "Epoch 23/100\n",
      "196/196 [==============================] - 5s 23ms/step - loss: 1.1103 - accuracy: 0.6048 - val_loss: 1.3927 - val_accuracy: 0.5203\n",
      "Epoch 24/100\n",
      "196/196 [==============================] - 4s 20ms/step - loss: 1.0924 - accuracy: 0.6106 - val_loss: 1.4055 - val_accuracy: 0.5099\n",
      "Epoch 25/100\n",
      "196/196 [==============================] - 4s 21ms/step - loss: 1.0737 - accuracy: 0.6159 - val_loss: 1.4232 - val_accuracy: 0.5197\n",
      "Epoch 26/100\n",
      "196/196 [==============================] - 4s 21ms/step - loss: 1.0575 - accuracy: 0.6201 - val_loss: 1.3715 - val_accuracy: 0.5292\n",
      "Epoch 27/100\n",
      "196/196 [==============================] - 4s 20ms/step - loss: 1.0427 - accuracy: 0.6273 - val_loss: 1.3783 - val_accuracy: 0.5283\n",
      "Epoch 28/100\n",
      "196/196 [==============================] - 4s 19ms/step - loss: 1.0263 - accuracy: 0.6328 - val_loss: 1.4009 - val_accuracy: 0.5241\n",
      "Epoch 29/100\n",
      "196/196 [==============================] - 4s 20ms/step - loss: 1.0032 - accuracy: 0.6406 - val_loss: 1.4524 - val_accuracy: 0.5143\n",
      "Epoch 30/100\n",
      "196/196 [==============================] - 4s 21ms/step - loss: 0.9860 - accuracy: 0.6471 - val_loss: 1.4116 - val_accuracy: 0.5227\n",
      "Epoch 31/100\n",
      "196/196 [==============================] - 4s 20ms/step - loss: 0.9780 - accuracy: 0.6490 - val_loss: 1.4570 - val_accuracy: 0.5119\n",
      "Epoch 32/100\n",
      "196/196 [==============================] - 4s 20ms/step - loss: 0.9577 - accuracy: 0.6558 - val_loss: 1.4454 - val_accuracy: 0.5183\n",
      "Epoch 33/100\n",
      "196/196 [==============================] - 4s 22ms/step - loss: 0.9499 - accuracy: 0.6574 - val_loss: 1.4620 - val_accuracy: 0.5164\n",
      "Epoch 34/100\n",
      "196/196 [==============================] - 4s 21ms/step - loss: 0.9273 - accuracy: 0.6686 - val_loss: 1.4567 - val_accuracy: 0.5186\n",
      "Epoch 35/100\n",
      "196/196 [==============================] - 4s 19ms/step - loss: 0.9146 - accuracy: 0.6702 - val_loss: 1.4725 - val_accuracy: 0.5261\n",
      "Epoch 36/100\n",
      "196/196 [==============================] - 4s 19ms/step - loss: 0.8868 - accuracy: 0.6810 - val_loss: 1.4491 - val_accuracy: 0.5269\n",
      "Epoch 37/100\n",
      "196/196 [==============================] - 4s 19ms/step - loss: 0.8755 - accuracy: 0.6879 - val_loss: 1.4798 - val_accuracy: 0.5234\n",
      "Epoch 38/100\n",
      "196/196 [==============================] - 4s 20ms/step - loss: 0.8661 - accuracy: 0.6894 - val_loss: 1.5016 - val_accuracy: 0.5236\n",
      "Epoch 39/100\n",
      "196/196 [==============================] - 4s 20ms/step - loss: 0.8381 - accuracy: 0.6998 - val_loss: 1.5108 - val_accuracy: 0.5211\n",
      "Epoch 40/100\n",
      "196/196 [==============================] - 4s 19ms/step - loss: 0.8401 - accuracy: 0.6987 - val_loss: 1.5754 - val_accuracy: 0.5158\n",
      "Epoch 41/100\n",
      "196/196 [==============================] - 4s 19ms/step - loss: 0.8155 - accuracy: 0.7083 - val_loss: 1.5603 - val_accuracy: 0.5219\n",
      "Epoch 42/100\n",
      "196/196 [==============================] - 4s 19ms/step - loss: 0.8033 - accuracy: 0.7117 - val_loss: 1.6026 - val_accuracy: 0.5102\n",
      "Epoch 43/100\n",
      "196/196 [==============================] - 4s 20ms/step - loss: 0.7968 - accuracy: 0.7133 - val_loss: 1.5627 - val_accuracy: 0.5232\n",
      "Epoch 44/100\n",
      "196/196 [==============================] - 4s 19ms/step - loss: 0.7684 - accuracy: 0.7238 - val_loss: 1.6075 - val_accuracy: 0.5207\n",
      "Epoch 45/100\n",
      "196/196 [==============================] - 4s 18ms/step - loss: 0.7572 - accuracy: 0.7298 - val_loss: 1.6221 - val_accuracy: 0.5238\n",
      "Epoch 46/100\n",
      "196/196 [==============================] - 4s 19ms/step - loss: 0.7594 - accuracy: 0.7275 - val_loss: 1.6749 - val_accuracy: 0.5160\n",
      "Epoch 47/100\n",
      "196/196 [==============================] - 4s 20ms/step - loss: 0.7418 - accuracy: 0.7319 - val_loss: 1.7140 - val_accuracy: 0.5135\n",
      "Epoch 48/100\n",
      "196/196 [==============================] - 4s 20ms/step - loss: 0.7287 - accuracy: 0.7378 - val_loss: 1.6971 - val_accuracy: 0.5163\n",
      "Epoch 49/100\n",
      "196/196 [==============================] - 4s 20ms/step - loss: 0.7156 - accuracy: 0.7432 - val_loss: 1.7302 - val_accuracy: 0.5113\n",
      "Epoch 50/100\n",
      "196/196 [==============================] - 4s 19ms/step - loss: 0.6897 - accuracy: 0.7531 - val_loss: 1.6958 - val_accuracy: 0.5265\n",
      "Epoch 51/100\n",
      "196/196 [==============================] - 4s 20ms/step - loss: 0.6856 - accuracy: 0.7530 - val_loss: 1.7798 - val_accuracy: 0.5210\n",
      "Epoch 52/100\n",
      "196/196 [==============================] - 4s 19ms/step - loss: 0.6625 - accuracy: 0.7615 - val_loss: 1.7985 - val_accuracy: 0.5184\n",
      "Epoch 53/100\n",
      "196/196 [==============================] - 4s 20ms/step - loss: 0.6667 - accuracy: 0.7588 - val_loss: 1.7775 - val_accuracy: 0.5203\n",
      "Epoch 54/100\n",
      "196/196 [==============================] - 4s 18ms/step - loss: 0.6473 - accuracy: 0.7679 - val_loss: 1.8827 - val_accuracy: 0.5117\n",
      "Epoch 55/100\n",
      "196/196 [==============================] - 4s 19ms/step - loss: 0.6450 - accuracy: 0.7678 - val_loss: 1.8937 - val_accuracy: 0.5162\n",
      "Epoch 56/100\n",
      "196/196 [==============================] - 4s 18ms/step - loss: 0.6213 - accuracy: 0.7754 - val_loss: 1.9028 - val_accuracy: 0.5110\n",
      "Epoch 57/100\n"
     ]
    },
    {
     "name": "stdout",
     "output_type": "stream",
     "text": [
      "196/196 [==============================] - 4s 18ms/step - loss: 0.6146 - accuracy: 0.7794 - val_loss: 1.8987 - val_accuracy: 0.5153\n",
      "Epoch 58/100\n",
      "196/196 [==============================] - 4s 19ms/step - loss: 0.6152 - accuracy: 0.7791 - val_loss: 2.0539 - val_accuracy: 0.5056\n",
      "Epoch 59/100\n",
      "196/196 [==============================] - 4s 21ms/step - loss: 0.6022 - accuracy: 0.7824 - val_loss: 1.9588 - val_accuracy: 0.5145\n",
      "Epoch 60/100\n",
      "196/196 [==============================] - 4s 20ms/step - loss: 0.6015 - accuracy: 0.7831 - val_loss: 2.0581 - val_accuracy: 0.5030\n",
      "Epoch 61/100\n",
      "196/196 [==============================] - 4s 22ms/step - loss: 0.5922 - accuracy: 0.7857 - val_loss: 2.0358 - val_accuracy: 0.5024\n",
      "Epoch 62/100\n",
      "196/196 [==============================] - 4s 21ms/step - loss: 0.5579 - accuracy: 0.7991 - val_loss: 2.0458 - val_accuracy: 0.5088\n",
      "Epoch 63/100\n",
      "196/196 [==============================] - 4s 19ms/step - loss: 0.5541 - accuracy: 0.8013 - val_loss: 2.0899 - val_accuracy: 0.5121\n",
      "Epoch 64/100\n",
      "196/196 [==============================] - 4s 19ms/step - loss: 0.5484 - accuracy: 0.8019 - val_loss: 2.0801 - val_accuracy: 0.5121\n",
      "Epoch 65/100\n",
      "196/196 [==============================] - 4s 20ms/step - loss: 0.5312 - accuracy: 0.8082 - val_loss: 2.1963 - val_accuracy: 0.4976\n",
      "Epoch 66/100\n",
      "196/196 [==============================] - 4s 19ms/step - loss: 0.5350 - accuracy: 0.8060 - val_loss: 2.1212 - val_accuracy: 0.5128\n",
      "Epoch 67/100\n",
      "196/196 [==============================] - 4s 19ms/step - loss: 0.5180 - accuracy: 0.8167 - val_loss: 2.1725 - val_accuracy: 0.5040\n",
      "Epoch 68/100\n",
      "196/196 [==============================] - 4s 20ms/step - loss: 0.5169 - accuracy: 0.8129 - val_loss: 2.2092 - val_accuracy: 0.5057\n",
      "Epoch 69/100\n",
      "196/196 [==============================] - 4s 20ms/step - loss: 0.4976 - accuracy: 0.8223 - val_loss: 2.2481 - val_accuracy: 0.5111\n",
      "Epoch 70/100\n",
      "196/196 [==============================] - 4s 18ms/step - loss: 0.5117 - accuracy: 0.8162 - val_loss: 2.2135 - val_accuracy: 0.5155\n",
      "Epoch 71/100\n",
      "196/196 [==============================] - 4s 18ms/step - loss: 0.4968 - accuracy: 0.8206 - val_loss: 2.2838 - val_accuracy: 0.5081\n",
      "Epoch 72/100\n",
      "196/196 [==============================] - 4s 19ms/step - loss: 0.4979 - accuracy: 0.8180 - val_loss: 2.3381 - val_accuracy: 0.5122\n",
      "Epoch 73/100\n",
      "196/196 [==============================] - 4s 18ms/step - loss: 0.4573 - accuracy: 0.8355 - val_loss: 2.3495 - val_accuracy: 0.5111\n",
      "Epoch 74/100\n",
      "196/196 [==============================] - 4s 19ms/step - loss: 0.4840 - accuracy: 0.8254 - val_loss: 2.3369 - val_accuracy: 0.5030\n",
      "Epoch 75/100\n",
      "196/196 [==============================] - 4s 20ms/step - loss: 0.4889 - accuracy: 0.8224 - val_loss: 2.3689 - val_accuracy: 0.5089\n",
      "Epoch 76/100\n",
      "196/196 [==============================] - 4s 21ms/step - loss: 0.4428 - accuracy: 0.8413 - val_loss: 2.4192 - val_accuracy: 0.5029\n",
      "Epoch 77/100\n",
      "196/196 [==============================] - 4s 20ms/step - loss: 0.4732 - accuracy: 0.8285 - val_loss: 2.4320 - val_accuracy: 0.5036\n",
      "Epoch 78/100\n",
      "196/196 [==============================] - 4s 19ms/step - loss: 0.4536 - accuracy: 0.8359 - val_loss: 2.4256 - val_accuracy: 0.5041\n",
      "Epoch 79/100\n",
      "196/196 [==============================] - 4s 18ms/step - loss: 0.4565 - accuracy: 0.8354 - val_loss: 2.4778 - val_accuracy: 0.5061\n",
      "Epoch 80/100\n",
      "196/196 [==============================] - 4s 19ms/step - loss: 0.4401 - accuracy: 0.8414 - val_loss: 2.4690 - val_accuracy: 0.5059\n",
      "Epoch 81/100\n",
      "196/196 [==============================] - 4s 19ms/step - loss: 0.4420 - accuracy: 0.8392 - val_loss: 2.6193 - val_accuracy: 0.5108\n",
      "Epoch 82/100\n",
      "196/196 [==============================] - 4s 19ms/step - loss: 0.4127 - accuracy: 0.8515 - val_loss: 2.5954 - val_accuracy: 0.5060\n",
      "Epoch 83/100\n",
      "196/196 [==============================] - 4s 19ms/step - loss: 0.4264 - accuracy: 0.8472 - val_loss: 2.6208 - val_accuracy: 0.5042\n",
      "Epoch 84/100\n",
      "196/196 [==============================] - 4s 20ms/step - loss: 0.4296 - accuracy: 0.8461 - val_loss: 2.6142 - val_accuracy: 0.5094\n",
      "Epoch 85/100\n",
      "196/196 [==============================] - 4s 20ms/step - loss: 0.4016 - accuracy: 0.8535 - val_loss: 2.6172 - val_accuracy: 0.5063\n",
      "Epoch 86/100\n",
      "196/196 [==============================] - 4s 19ms/step - loss: 0.4215 - accuracy: 0.8478 - val_loss: 2.6513 - val_accuracy: 0.5088\n",
      "Epoch 87/100\n",
      "196/196 [==============================] - 4s 19ms/step - loss: 0.3969 - accuracy: 0.8584 - val_loss: 2.7424 - val_accuracy: 0.5038\n",
      "Epoch 88/100\n",
      "196/196 [==============================] - 4s 19ms/step - loss: 0.3918 - accuracy: 0.8580 - val_loss: 2.7403 - val_accuracy: 0.5044\n",
      "Epoch 89/100\n",
      "196/196 [==============================] - 4s 19ms/step - loss: 0.3849 - accuracy: 0.8618 - val_loss: 2.7366 - val_accuracy: 0.5012\n",
      "Epoch 90/100\n",
      "196/196 [==============================] - 4s 20ms/step - loss: 0.4030 - accuracy: 0.8543 - val_loss: 2.7665 - val_accuracy: 0.5050\n",
      "Epoch 91/100\n",
      "196/196 [==============================] - 4s 19ms/step - loss: 0.3854 - accuracy: 0.8618 - val_loss: 2.7514 - val_accuracy: 0.5049\n",
      "Epoch 92/100\n",
      "196/196 [==============================] - 4s 19ms/step - loss: 0.3700 - accuracy: 0.8670 - val_loss: 2.9722 - val_accuracy: 0.5027\n",
      "Epoch 93/100\n",
      "196/196 [==============================] - 4s 20ms/step - loss: 0.3777 - accuracy: 0.8657 - val_loss: 2.8701 - val_accuracy: 0.4946\n",
      "Epoch 94/100\n",
      "196/196 [==============================] - 4s 20ms/step - loss: 0.3683 - accuracy: 0.8686 - val_loss: 2.7806 - val_accuracy: 0.5009\n",
      "Epoch 95/100\n",
      "196/196 [==============================] - 4s 19ms/step - loss: 0.3621 - accuracy: 0.8700 - val_loss: 2.9528 - val_accuracy: 0.4988\n",
      "Epoch 96/100\n",
      "196/196 [==============================] - 4s 19ms/step - loss: 0.3520 - accuracy: 0.8744 - val_loss: 2.9379 - val_accuracy: 0.5024\n",
      "Epoch 97/100\n",
      "196/196 [==============================] - 4s 19ms/step - loss: 0.3878 - accuracy: 0.8606 - val_loss: 2.9122 - val_accuracy: 0.5000\n",
      "Epoch 98/100\n",
      "196/196 [==============================] - 4s 18ms/step - loss: 0.3757 - accuracy: 0.8644 - val_loss: 2.8740 - val_accuracy: 0.4986\n",
      "Epoch 99/100\n",
      "196/196 [==============================] - 4s 19ms/step - loss: 0.3311 - accuracy: 0.8809 - val_loss: 3.0238 - val_accuracy: 0.4984\n",
      "Epoch 100/100\n",
      "196/196 [==============================] - 4s 19ms/step - loss: 0.3356 - accuracy: 0.8790 - val_loss: 3.0735 - val_accuracy: 0.5034\n"
     ]
    },
    {
     "data": {
      "text/plain": [
       "<tensorflow.python.keras.callbacks.History at 0x21ded158040>"
      ]
     },
     "execution_count": 12,
     "metadata": {},
     "output_type": "execute_result"
    }
   ],
   "source": [
    "model.fit(x_train, y_train, \n",
    "          epochs=EPOCHS, \n",
    "          batch_size=BATCH_SIZE, \n",
    "          validation_data=(x_test, y_test), \n",
    "          shuffle=True)"
   ]
  },
  {
   "cell_type": "code",
   "execution_count": 13,
   "metadata": {},
   "outputs": [
    {
     "data": {
      "image/png": "[encoded data removed]",
      "text/plain": [
       "<Figure size 432x288 with 1 Axes>"
      ]
     },
     "metadata": {
      "needs_background": "light"
     },
     "output_type": "display_data"
    },
    {
     "data": {
      "image/png": "[encoded data removed]",
      "text/plain": [
       "<Figure size 432x288 with 1 Axes>"
      ]
     },
     "metadata": {
      "needs_background": "light"
     },
     "output_type": "display_data"
    }
   ],
   "source": [
    "import matplotlib.pyplot as plt\n",
    "\n",
    "\n",
    "train_loss = model.history.history[\"loss\"]\n",
    "valid_loss = model.history.history[\"val_loss\"]\n",
    "\n",
    "train_acc = model.history.history[\"accuracy\"]\n",
    "valid_acc = model.history.history[\"val_accuracy\"]\n",
    "\n",
    "plt.plot(range(len(train_loss)), train_loss, label=\"train loss\")\n",
    "plt.plot(range(len(valid_loss)), valid_loss, label=\"valid loss\")\n",
    "plt.legend()\n",
    "plt.title(\"Loss\")\n",
    "plt.show()\n",
    "\n",
    "plt.plot(range(len(train_acc)), train_acc, label=\"train accuracy\")\n",
    "plt.plot(range(len(valid_acc)), valid_acc, label=\"valid accuracy\")\n",
    "plt.legend()\n",
    "plt.title(\"Accuracy\")\n",
    "plt.show()"
   ]
  },
  {
   "cell_type": "code",
   "execution_count": null,
   "metadata": {},
   "outputs": [],
   "source": []
  }
 ],
 "metadata": {
  "kernelspec": {
   "display_name": "Python 3",
   "language": "python",
   "name": "python3"
  },
  "language_info": {
   "codemirror_mode": {
    "name": "ipython",
    "version": 3
   },
   "file_extension": ".py",
   "mimetype": "text/x-python",
   "name": "python",
   "nbconvert_exporter": "python",
   "pygments_lexer": "ipython3",
   "version": "3.8.3"
  }
 },
 "nbformat": 4,
 "nbformat_minor": 2
}
