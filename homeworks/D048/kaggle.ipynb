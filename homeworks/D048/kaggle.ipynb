{
 "cells": [
  {
   "cell_type": "code",
   "execution_count": 21,
   "metadata": {},
   "outputs": [],
   "source": [
    "import numpy as np\n",
    "import pandas as pd\n",
    "import matplotlib.pyplot as plt\n",
    "from sklearn.model_selection import train_test_split"
   ]
  },
  {
   "cell_type": "code",
   "execution_count": 22,
   "metadata": {},
   "outputs": [
    {
     "name": "stdout",
     "output_type": "stream",
     "text": [
      "(1000, 40)\n",
      "(1000, 1)\n",
      "(9000, 40)\n"
     ]
    }
   ],
   "source": [
    "train = pd.read_csv('data-science-london-scikit-learn/train.csv', header=None)\n",
    "train.head()\n",
    "\n",
    "print(train.shape)\n",
    "# print(train.describe())\n",
    "# print(train.dtypes)\n",
    "\n",
    "train_label = pd.read_csv(\n",
    "    'data-science-london-scikit-learn/trainLabels.csv', header=None)\n",
    "train_label.head()\n",
    "\n",
    "print(train_label.shape)\n",
    "# print(train_label.dtypes)\n",
    "\n",
    "test = pd.read_csv('data-science-london-scikit-learn/test.csv', header=None)\n",
    "test.head()\n",
    "\n",
    "print(test.shape)\n",
    "# print(test.describe())\n",
    "# print(test.dtypes)"
   ]
  },
  {
   "cell_type": "code",
   "execution_count": 23,
   "metadata": {},
   "outputs": [],
   "source": [
    "from sklearn.linear_model import LogisticRegression"
   ]
  },
  {
   "cell_type": "code",
   "execution_count": 24,
   "metadata": {},
   "outputs": [
    {
     "name": "stderr",
     "output_type": "stream",
     "text": [
      "/opt/anaconda3/lib/python3.8/site-packages/sklearn/utils/validation.py:73: DataConversionWarning: A column-vector y was passed when a 1d array was expected. Please change the shape of y to (n_samples, ), for example using ravel().\n",
      "  return f(**kwargs)\n",
      "/opt/anaconda3/lib/python3.8/site-packages/sklearn/utils/validation.py:73: DataConversionWarning: A column-vector y was passed when a 1d array was expected. Please change the shape of y to (n_samples, ), for example using ravel().\n",
      "  return f(**kwargs)\n",
      "/opt/anaconda3/lib/python3.8/site-packages/sklearn/utils/validation.py:73: DataConversionWarning: A column-vector y was passed when a 1d array was expected. Please change the shape of y to (n_samples, ), for example using ravel().\n",
      "  return f(**kwargs)\n"
     ]
    },
    {
     "data": {
      "text/plain": [
       "0.8333333333333334"
      ]
     },
     "execution_count": 24,
     "metadata": {},
     "output_type": "execute_result"
    }
   ],
   "source": [
    "# assign X and y to train and label\n",
    "X = train\n",
    "y = train_label\n",
    "\n",
    "x_train, x_test, y_train, y_test = train_test_split(X, y, test_size=0.3, random_state=5)\n",
    "\n",
    "\n",
    "log_reg = LogisticRegression()\n",
    "log_reg.fit(x_train, y_train)\n",
    "log_reg.score(x_train, y_train)  # .83\n",
    "log_reg.score(x_test, y_test)  # .81\n",
    "\n",
    "log_reg100 = LogisticRegression(C=100)\n",
    "log_reg100.fit(x_train, y_train)\n",
    "log_reg100.score(x_train, y_train)  # .83\n",
    "log_reg100.score(x_test, y_test)  # .81\n",
    "\n",
    "\n",
    "log_reg001 = LogisticRegression(C=0.00100)\n",
    "log_reg001.fit(x_train, y_train)\n",
    "log_reg001.score(x_train, y_train)  # .80\n",
    "log_reg001.score(x_test, y_test)  # .81\n"
   ]
  },
  {
   "cell_type": "code",
   "execution_count": 25,
   "metadata": {},
   "outputs": [],
   "source": [
    "from sklearn import datasets, metrics\n",
    "from sklearn.ensemble import RandomForestClassifier"
   ]
  },
  {
   "cell_type": "code",
   "execution_count": 26,
   "metadata": {},
   "outputs": [
    {
     "name": "stderr",
     "output_type": "stream",
     "text": [
      "<ipython-input-26-731598c35fbc>:7: DataConversionWarning: A column-vector y was passed when a 1d array was expected. Please change the shape of y to (n_samples,), for example using ravel().\n",
      "  clf.fit(x_train, y_train)\n"
     ]
    }
   ],
   "source": [
    "# 建立一個隨機森林模型\n",
    "clf = RandomForestClassifier(n_estimators=10,max_depth=3)\n",
    "\n",
    "\n",
    "# 將訓練資料丟進去模型訓練\n",
    "y_train = np.array(y_train, dtype=int)\n",
    "clf.fit(x_train, y_train)\n",
    "\n",
    "# 將測試資料丟進模型得到預測結果\n",
    "y_pred = clf.predict(x_test)"
   ]
  },
  {
   "cell_type": "code",
   "execution_count": 27,
   "metadata": {},
   "outputs": [
    {
     "name": "stdout",
     "output_type": "stream",
     "text": [
      "Acuuracy:  0.78\n"
     ]
    }
   ],
   "source": [
    "acc = metrics.accuracy_score(y_test, y_pred)\n",
    "print(\"Acuuracy: \", acc)"
   ]
  },
  {
   "cell_type": "code",
   "execution_count": 28,
   "metadata": {},
   "outputs": [],
   "source": [
    "from sklearn.neighbors import KNeighborsClassifier"
   ]
  },
  {
   "cell_type": "code",
   "execution_count": 29,
   "metadata": {},
   "outputs": [
    {
     "name": "stderr",
     "output_type": "stream",
     "text": [
      "<ipython-input-29-acae209ae2bb>:2: DataConversionWarning: A column-vector y was passed when a 1d array was expected. Please change the shape of y to (n_samples, ), for example using ravel().\n",
      "  knn.fit(X, y)\n"
     ]
    },
    {
     "name": "stdout",
     "output_type": "stream",
     "text": [
      "Acuuracy:  0.934\n",
      "      0\n",
      "0     1\n",
      "1     0\n",
      "2     1\n",
      "3     0\n",
      "4     0\n",
      "...  ..\n",
      "8995  1\n",
      "8996  1\n",
      "8997  1\n",
      "8998  0\n",
      "8999  1\n",
      "\n",
      "[9000 rows x 1 columns]\n",
      "        Id  Solution\n",
      "1        1         1\n",
      "2        2         0\n",
      "3        3         1\n",
      "4        4         0\n",
      "5        5         0\n",
      "...    ...       ...\n",
      "8996  8996         1\n",
      "8997  8997         1\n",
      "8998  8998         1\n",
      "8999  8999         0\n",
      "9000  9000         1\n",
      "\n",
      "[9000 rows x 2 columns]\n"
     ]
    }
   ],
   "source": [
    "knn = KNeighborsClassifier(n_neighbors=7)\n",
    "knn.fit(X, y)\n",
    "y_pred = knn.predict(X)\n",
    "acc = metrics.accuracy_score(y, y_pred)\n",
    "print(\"Acuuracy: \", acc)\n",
    "\n",
    "\n",
    "# print(test.values)\n",
    "y_pred = knn.predict(test.values)\n",
    "\n",
    "\n",
    "y_pred= pd.DataFrame(y_pred)\n",
    "print(y_pred)\n",
    "y_pred.index +=1\n",
    "\n",
    "y_pred.columns = ['Solution']\n",
    "y_pred['Id'] = np.arange(1,y_pred.shape[0]+1)\n",
    "y_pred = y_pred[['Id', 'Solution']]\n",
    "\n",
    "print(y_pred)\n",
    "\n",
    "y_pred.to_csv('Submission_rf.csv', index=False)\n"
   ]
  },
  {
   "cell_type": "code",
   "execution_count": null,
   "metadata": {},
   "outputs": [],
   "source": []
  }
 ],
 "metadata": {
  "kernelspec": {
   "display_name": "Python 3",
   "language": "python",
   "name": "python3"
  },
  "language_info": {
   "codemirror_mode": {
    "name": "ipython",
    "version": 3
   },
   "file_extension": ".py",
   "mimetype": "text/x-python",
   "name": "python",
   "nbconvert_exporter": "python",
   "pygments_lexer": "ipython3",
   "version": "3.8.3"
  }
 },
 "nbformat": 4,
 "nbformat_minor": 4
}
